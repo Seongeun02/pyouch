{
 "cells": [
  {
   "cell_type": "code",
   "execution_count": 15,
   "metadata": {},
   "outputs": [],
   "source": [
    "from ete3 import Tree\n",
    "import pandas as pd"
   ]
  },
  {
   "cell_type": "code",
   "execution_count": 16,
   "metadata": {},
   "outputs": [],
   "source": [
    "# input example\n",
    "# check the name of species whether they match in the tree data\n",
    "df = \"/Users/yunseong-eun/Desktop/current/convert_treeformat/NWK_tree.txt\"    # from http://hgdownload.cse.ucsc.edu/goldenpath/hg19/multiz100way/\n",
    "species = [\"Human\", \"Chimp\", \"Gorilla\", \"Orangutan\", \"Rhesus\", \"Marmoset\", \"Mouse\", \n",
    "           \"Rat\", \"Cow\", \"Dog\", \"Ferret\", \"Armadillo\", \"\"\n",
    "\n",
    "]"
   ]
  },
  {
   "cell_type": "code",
   "execution_count": 3,
   "metadata": {},
   "outputs": [],
   "source": [
    "class NWK_conversion:\n",
    "    '''\n",
    "    Class for convert the Newick tree file into appropriate format(distance matrix or tree data for ou model)\n",
    "\n",
    "    Methods :\n",
    "    1) distance_matrix : convert tree file into distance matrix\n",
    "    2) tree_data : convert tree file into tree data for ou model\n",
    "    '''\n",
    "\n",
    "    def __init__(self,\n",
    "                 df,\n",
    "                 species):\n",
    "        '''\n",
    "        Initialize class instance\n",
    "\n",
    "        Arguments:\n",
    "        df(str) : either file directory or real Newick tree string\n",
    "        species(list) : list of species, check the name!! They should match with the data in df\n",
    "        '''\n",
    "\n",
    "        self.df = df\n",
    "        self.species = species\n",
    "        # convert into tree object & prune it \n",
    "        self.t = Tree(self.df, format=1)\n",
    "        self.t.prune(self.species)\n",
    "        # extract nodes in the tree\n",
    "        self.node = self.t.search_nodes()\n",
    "\n",
    "    \n",
    "    def distance_matrix(self):\n",
    "        an = {}\n",
    "        for i in self.species:\n",
    "            dist=[]\n",
    "            for j in self.species:\n",
    "                if i==j:\n",
    "                    dist.append(0)\n",
    "                else:\n",
    "                    path = self.t.get_distance(i,j)\n",
    "                    dist.append(path)\n",
    "\n",
    "            an[i] = dist\n",
    "        an = pd.DataFrame(an)\n",
    "        an.insert(0, \"species\", self.species)\n",
    "        return an\n",
    "    \n",
    "    def tree_data(self):\n",
    "        # rename internal nodes\n",
    "        a = 0\n",
    "        for i in self.node:\n",
    "            if not i.is_leaf():\n",
    "                i.name = a\n",
    "                a += 1\n",
    "\n",
    "        # get dataframe for ancestor, time, and species \n",
    "        ancestor = []\n",
    "        time = []\n",
    "        sp = []\n",
    "        for i in range(len(self.node)):\n",
    "            if i==0:\n",
    "                ancestor.append(None)\n",
    "                time.append(0)\n",
    "                sp.append(self.node[i].name)\n",
    "            else:\n",
    "                ancestor.append(self.node[i].up.name)\n",
    "                time.append(self.node[0].get_distance(self.node[i]))\n",
    "                sp.append(self.node[i].name)\n",
    "\n",
    "        df = pd.DataFrame({\"species\":sp, \"ancestor\":ancestor, \"time\":time})\n",
    "\n",
    "        # rearrange into right format\n",
    "        idx = []\n",
    "        num = len(self.species)\n",
    "        df[\"species\"] = df[\"species\"].astype(str)\n",
    "        for i in df[\"species\"]:\n",
    "            if i.isdigit():\n",
    "                idx.append(int(i)+1)\n",
    "            else:\n",
    "                idx.append(num)\n",
    "                num += 1 \n",
    "        df.insert(0,\"node\",idx)\n",
    "        df[\"node\"] = df[\"node\"].astype(int)\n",
    "        df.sort_values(by=\"node\", inplace=True)\n",
    "\n",
    "        df[\"ancestor\"] += 1\n",
    "        df.index=list(range(len(self.species)*2-1))\n",
    "        df.iloc[:len(self.species)-1,1] = None\n",
    "\n",
    "        return df"
   ]
  },
  {
   "cell_type": "code",
   "execution_count": 4,
   "metadata": {},
   "outputs": [],
   "source": [
    "nw = NWK_conversion(df,species)"
   ]
  },
  {
   "cell_type": "code",
   "execution_count": 8,
   "metadata": {},
   "outputs": [],
   "source": [
    "dm = nw.distance_matrix()\n",
    "dm.to_csv(\"/Users/yunseong-eun/Desktop/hahn_data/14 species (Lamprey o)/distance_matrix.txt\", sep=\"\\t\")"
   ]
  },
  {
   "cell_type": "code",
   "execution_count": 9,
   "metadata": {},
   "outputs": [],
   "source": [
    "tree = nw.tree_data()\n",
    "tree.to_csv(\"/Users/yunseong-eun/Desktop/hahn_data/14 species (Lamprey o)/tree_data.txt\",sep=\"\\t\")"
   ]
  },
  {
   "attachments": {},
   "cell_type": "markdown",
   "metadata": {},
   "source": [
    "# robustness test"
   ]
  },
  {
   "cell_type": "code",
   "execution_count": 5,
   "metadata": {},
   "outputs": [],
   "source": [
    "import random"
   ]
  },
  {
   "cell_type": "code",
   "execution_count": 17,
   "metadata": {},
   "outputs": [],
   "source": [
    "directory = \"/Users/yunseong-eun/Desktop/processed_chen/robustness/\""
   ]
  },
  {
   "cell_type": "code",
   "execution_count": 8,
   "metadata": {},
   "outputs": [
    {
     "data": {
      "text/plain": [
       "['Human',\n",
       " 'Marmoset',\n",
       " 'Chinese_tree_shrew',\n",
       " 'Squirrel',\n",
       " 'Mouse',\n",
       " 'Pig',\n",
       " 'Cow',\n",
       " 'Sheep',\n",
       " 'Ferret',\n",
       " 'Opossum',\n",
       " 'Chicken',\n",
       " 'Lizard',\n",
       " 'Zebrafish']"
      ]
     },
     "execution_count": 8,
     "metadata": {},
     "output_type": "execute_result"
    }
   ],
   "source": [
    "species"
   ]
  },
  {
   "cell_type": "code",
   "execution_count": 14,
   "metadata": {},
   "outputs": [],
   "source": [
    "for i in range(3,13):\n",
    "    for j in range(10):\n",
    "        # randomly select i species\n",
    "        sp = random.sample(species, i)\n",
    "\n",
    "        # generate tree data\n",
    "        nw = NWK_conversion(df,sp)\n",
    "\n",
    "        # dm & tree\n",
    "        dm = nw.distance_matrix()\n",
    "        dm.to_csv(directory+f\"{i} species/{j}/distance_matrix_{j}.txt\", sep=\"\\t\")\n",
    "        tree = nw.tree_data()\n",
    "        tree.to_csv(directory+f\"{i} species/{j}/tree_{j}.txt\", sep=\"\\t\")\n",
    "\n",
    "        # store i species\n",
    "        f = open(directory+f\"{i} species/{j}/index_{j}.txt\",\"w\")\n",
    "        for s in sp:\n",
    "            f.write(s+\"\\n\")\n",
    "        f.close()"
   ]
  },
  {
   "cell_type": "code",
   "execution_count": null,
   "metadata": {},
   "outputs": [],
   "source": []
  }
 ],
 "metadata": {
  "kernelspec": {
   "display_name": "Python 3",
   "language": "python",
   "name": "python3"
  },
  "language_info": {
   "codemirror_mode": {
    "name": "ipython",
    "version": 3
   },
   "file_extension": ".py",
   "mimetype": "text/x-python",
   "name": "python",
   "nbconvert_exporter": "python",
   "pygments_lexer": "ipython3",
   "version": "3.10.8"
  },
  "orig_nbformat": 4
 },
 "nbformat": 4,
 "nbformat_minor": 2
}
